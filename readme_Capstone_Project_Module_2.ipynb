{
 "cells": [
  {
   "cell_type": "markdown",
   "id": "a5a4be7d",
   "metadata": {},
   "source": [
    "# Latar BelakangTransjakarta berusaha menganalisa apakah diperlukan pertambahan armada atau tidak di trayek tertentu\n",
    "Sebuah perusahaan Transjakarta ingin menambah dan mengurangi trayek Transjakarta. Transjakarta ingin mengoptimalkan pelayanan transportasi umum yaitu BRT, Mikrotrans, dan Angkutan Umum Terintegrasi. Sebagai Data Analyst kita dituntut untuk menyajikan data kepada User untuk pertimangan trayek mana yang harus dikurangi atau ditambahkan\n",
    "\n",
    "\n",
    "## Pernyataan Masalah\n",
    "Perusahaan ingin mengetahui apakah diperlukan pertambahan armada atau tidak di trayek tertentu. Informasi ini akan membantu perusahaan untuk mengoptimalkan pelayanan Transportasi umum\n",
    "\n",
    "Sebagai seorang *data analyst*, kita akan mencoba menjawab pertanyaan berikut:\n",
    "\n",
    "**Trayek Manakah yang akan ditambahkan armada Transjakarta**"
   ]
  },
  {
   "cell_type": "markdown",
   "id": "748186fb",
   "metadata": {},
   "source": [
    "Dataset ini berisi informasi dalam tahun 2021 terkait demografis transportasi Transjakarta sesuai dengan tujuan masing-masing jenis kendaraannya. Ada 6 kolom dalam dataset TransJakarta Passengers 2021, yaitu:\n",
    "\n",
    "1) tahun: keterangan tahun dari perjalanan trayek TransJakarta\n",
    "2) bulan: keterangan bulan dari perjalanan trayek TransJakarta\n",
    "3) jenis: jenis kendaraan dari TransJakarta\n",
    "4) kode_trayek: kode trayek yang memudahkan Pengguna Transjakarta mengetahui trayek atau tujuannya\n",
    "5) trayek: rute perjalanan TransJakarta\n",
    "6) jumlah_penumpang: jumlah orang yang menggunakan TransJakarta"
   ]
  },
  {
   "cell_type": "markdown",
   "id": "c83e7715",
   "metadata": {},
   "source": [
    "## Data Understanding and Cleaning\n",
    "\n",
    "Kita dapat melakukan Data Understanding and Cleaning unuk mendapatkan berbagai anomali pada data yang akan kita gunakan agar mendapatkan hasil yang optimal, sehingga kita dapat menangani anomali tersebut.\n",
    "\n",
    "\n",
    "Pertama, mari kita lihat informasi umum dari dataset TransJakarta Passengers 2021"
   ]
  },
  {
   "cell_type": "markdown",
   "id": "13d38573",
   "metadata": {},
   "source": [
    "Dengan latar belakang TransJakarta dalam tahap pengembangan kita dapat menyimpulkan:\n",
    "1) Pada kode trayek JAK.10B dan JAK.10A hanya memiliki data di Bulan 12 yaitu di akhir tahun 2021\n",
    "2) Kita dapat berasumsi bahwa Jenis kendaraang Mikrotrans dengan kode trayek tersebut adalah trayek baru\n",
    "sehingga dari data analisa tersebut kita dapat mengisi missing values pada kolom `trayek` tersebut dengan nilai `rute_baru`"
   ]
  },
  {
   "cell_type": "markdown",
   "id": "33f6bfa8",
   "metadata": {},
   "source": [
    "# FILLNA\n",
    "Tahap selanjutnya kita dapat mengisi missing values tersebut dengan nilai yang baru"
   ]
  },
  {
   "cell_type": "markdown",
   "id": "260b80c3",
   "metadata": {},
   "source": [
    "### Data Clean\n",
    "Crosscheck kembali bahwa Missing Values dari data awal sudah tidak ada"
   ]
  },
  {
   "cell_type": "markdown",
   "id": "775b40b7",
   "metadata": {},
   "source": [
    "# Data Analysis\n",
    "kita sudah melakukan Data Cleaning, selanjutnya kita dapat melakukan Analisa terhadap trayek Transjakarta yang memiliki peminat paling banyak dan paling sedikit, sehingga kita dapat mengoptimalkan transportasi umum untuk masyarakat kota Jakarta"
   ]
  },
  {
   "cell_type": "markdown",
   "id": "92444ea5",
   "metadata": {},
   "source": [
    "Dari di atas, kita dapat memilih trayek `Cililitan - Condet via Kayu Manis` dengan total 24 keberengkatan selama 12 bulan di tahun 2021 sehingga kita akan memilih trayek `Cililitan - Condet via Kayu Manis` untuk dapat dilakukan analisa lebih lanjut."
   ]
  },
  {
   "cell_type": "markdown",
   "id": "563ab5d1",
   "metadata": {},
   "source": [
    "# Variabel khusus yang ingin diteliti\n",
    "\n",
    "Membuat sebuah variabel khusus untuk meneliti `trayek` `Cililitan - Condet via Kayu Manis` agar mendapatkan hasil yang lebih maksimal dalam uji testing dan grafik"
   ]
  },
  {
   "cell_type": "markdown",
   "id": "10765ce6",
   "metadata": {},
   "source": [
    "# Grafik Line Plot dan Bar Plot\n",
    "Lalu kita akan membuat grafik dari data tersebut untuk melihat visualisai pergerakan jumlah penumpang setiap bulannya dengan lineplot dan bar plot"
   ]
  },
  {
   "cell_type": "markdown",
   "id": "4a2a3ed1",
   "metadata": {},
   "source": [
    "# Uji Mann Whitney\n",
    "\n",
    "Dalam hasil Uji Mann-Whitney yang Anda berikan, nilai Uji U adalah 41.0 dan nilai p-value adalah 0.4148860293025053.\n",
    "\n",
    "Berdasarkan hasil ini, Anda dapat menyimpulkan bahwa tidak ada perbedaan yang signifikan antara jumlah penumpang dalam kelompok 1 (bulan 1-6) dan kelompok 2 (bulan 7-12) pada trayek Cililitan - Condet via Kayu Manis dan selalu mengalami kenaikan."
   ]
  },
  {
   "cell_type": "markdown",
   "id": "7577de4c",
   "metadata": {},
   "source": [
    "# Linear Regression\n",
    "kemudian untuk meyakinkan perusahaan terkait penambahan armada, \n",
    "saya menganalisa tingkat kemiringan dari bulan 1 ke bulan 12 apakah memang benar terjadi kenaikan atau uptrend di trayek tersebut"
   ]
  },
  {
   "cell_type": "markdown",
   "id": "301c0bee",
   "metadata": {},
   "source": [
    "# Kesimpulan dan Rekomendasi\n",
    "\n",
    "Dari analisis yang telah dilakukan, kita bisa membuat kesilpulan berikut tetang trayek yang ingin ditambahkan:\n",
    "\n",
    "- Jenis kendaraan terbanyak keberangkatannya adalah Mikrotrans\n",
    "- Dari di atas, trayek `Cililitan - Condet via Kayu Manis` adalah trayek paling banyak dengan total 24 keberangkatan selama 12 bulan di tahun 2021\n",
    "- Keberangkatan dengan jumlah penumpang paling sedikit adalah pada bulan 8 dengan total penumpang 86072\n",
    "- Keberangkatan dengan jumlah penumpang paling banyak adalah pada bulan 12 dengan total penumpang 162063\n",
    "- Nilai Uji U (U-statistic) adalah nilai statistik yang digunakan dalam Uji Mann-Whitney. Nilai ini menunjukkan jumlah peringkat yang lebih rendah dari salah satu kelompok dalam perbandingan dengan kelompok lainnya. Dalam kasus ini, nilai Uji U adalah 41.0, yang mengindikasikan jumlah peringkat yang lebih rendah dari kelompok 1 dibandingkan dengan kelompok 2.\n",
    "\n",
    "- Nilai p-value adalah nilai probabilitas yang menunjukkan signifikansi statistik dari perbedaan antara kedua kelompok. Dalam kasus ini, nilai p-value adalah 0.4148860293025053, yang menunjukkan tingkat signifikansi sebesar 0.4148860293025053 atau sekitar 41.49%. Jika nilai p-value lebih besar dari tingkat signifikansi yang ditetapkan sebelumnya (misalnya 0.05), maka tidak ada cukup bukti untuk menolak hipotesis nol, yang berarti tidak ada perbedaan yang signifikan antara kedua kelompok dalam hal jumlah penumpang."
   ]
  },
  {
   "cell_type": "markdown",
   "id": "905c0c59",
   "metadata": {},
   "source": [
    "## Rekomendasi\n",
    "\n",
    "- Dalam hasil Uji Mann-Whitney, nilai Uji U adalah 41.0 dan nilai p-value adalah 0.4148860293025053 dan dianjurkan untuk menerima H0 yaitu `Dibutuhkan penambahan armada pada trayek Cililitan - Condet via Kayu Manis`.\n",
    "- Terjadi kenaikan tren setiap bulannya sehingga penumpang akan lebih banyak di tahun 2022 dengan trayek `Cililitan - Condet via Kayu Manis`\n",
    "- Dibutuhkan penambahan armada Mikrotrans di trayek `Cililitan - Condet via Kayu Manis`\n",
    "- Mengalokasikan Mikrotrans di bulan 11 dan bulan 12 lebih banyak dikarenakan kenaikan jumlah penumpang yang tinggi\n",
    "\n",
    "Dengan data tersebut Perusahaan dapat mengurangi biaya operasional perusahaan jika secara tiba-tiba terdapat lonjakan jumlah penumpang di trayek `Cililitan - Condet via Kayu Manis` dengan mengalokasikan Mikrotrans yang berada pada pool mikrotrans dengan tarif minimal Rp 5.000,- dengan pendapatan perbulan Rp 810.315.000,- diharapkan dapat menjadi acuan untuk mendapatkan keuntungan bagi perusahaan\n"
   ]
  }
 ],
 "metadata": {
  "kernelspec": {
   "display_name": "Python 3 (ipykernel)",
   "language": "python",
   "name": "python3"
  },
  "language_info": {
   "codemirror_mode": {
    "name": "ipython",
    "version": 3
   },
   "file_extension": ".py",
   "mimetype": "text/x-python",
   "name": "python",
   "nbconvert_exporter": "python",
   "pygments_lexer": "ipython3",
   "version": "3.10.9"
  }
 },
 "nbformat": 4,
 "nbformat_minor": 5
}
